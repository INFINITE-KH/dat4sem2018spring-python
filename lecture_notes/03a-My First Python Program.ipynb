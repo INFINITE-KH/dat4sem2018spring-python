{
 "cells": [
  {
   "cell_type": "markdown",
   "metadata": {
    "slideshow": {
     "slide_type": "slide"
    }
   },
   "source": [
    "# My First Python Program\n",
    "\n",
    "As you learn speaking by continiously repeating what others say, as you learn writing by continiously rewriting chars, words and sentences that are presented to you, you can learn programming by typing, executing and modifying other people's programs.\n",
    "\n",
    "This is what we will do now.\n",
    "\n",
    "Type in the program that is handed out on paper in the field below. Copy exactly what is written on the paper. Note, that the intendation in the beginning of lines are created by pressing the tabulator (tab) key. On your keyboard this key looks something like: ⇥.\n",
    "\n",
    "Tell the Python interpreter that you are done by hitting `CTRL+Return`."
   ]
  },
  {
   "cell_type": "code",
   "execution_count": null,
   "metadata": {
    "collapsed": true
   },
   "outputs": [],
   "source": []
  },
  {
   "cell_type": "markdown",
   "metadata": {},
   "source": [
    "Now, that you are done typing in the program, run the following code cell."
   ]
  },
  {
   "cell_type": "code",
   "execution_count": null,
   "metadata": {
    "collapsed": true
   },
   "outputs": [],
   "source": [
    "talk_to_me()"
   ]
  },
  {
   "cell_type": "markdown",
   "metadata": {
    "slideshow": {
     "slide_type": "slide"
    }
   },
   "source": [
    "# What is a computer program?"
   ]
  },
  {
   "cell_type": "markdown",
   "metadata": {
    "slideshow": {
     "slide_type": "slide"
    }
   },
   "source": [
    "# What is a computer?"
   ]
  },
  {
   "cell_type": "markdown",
   "metadata": {},
   "source": [
    "# Data Input\n",
    "\n",
    "In Python you can get input from the user via the keyboard with the help if the `input` statement."
   ]
  },
  {
   "cell_type": "code",
   "execution_count": null,
   "metadata": {
    "collapsed": true
   },
   "outputs": [],
   "source": []
  },
  {
   "cell_type": "markdown",
   "metadata": {},
   "source": [
    "# Data Output\n",
    "\n",
    "\n",
    "In Python you can display information to the user with the help if the `print` statement."
   ]
  },
  {
   "cell_type": "code",
   "execution_count": null,
   "metadata": {
    "collapsed": true
   },
   "outputs": [],
   "source": []
  },
  {
   "cell_type": "markdown",
   "metadata": {},
   "source": [
    "# Data Processing\n",
    "\n",
    "## Assigning Input to a Variable\n",
    "\n",
    "If you want to keep what user inputs to a program via the keyboard, you have to assign the return value of the input statement to a variable."
   ]
  },
  {
   "cell_type": "code",
   "execution_count": null,
   "metadata": {
    "collapsed": true
   },
   "outputs": [],
   "source": []
  },
  {
   "cell_type": "code",
   "execution_count": null,
   "metadata": {
    "collapsed": true
   },
   "outputs": [],
   "source": []
  },
  {
   "cell_type": "markdown",
   "metadata": {},
   "source": [
    "## Converting Input\n",
    "\n",
    "A Python program treats all input that it receives from the keyboard as a string. That is, as a sequence of textual characters. Even when you give enter numbers, such as `1`, `2`, `3`, etc.\n",
    "\n",
    "If you wanted to input numbers and treat them as numbers and not as strings, you have to tell your program to convert the data type of your input into an integer (`int`)."
   ]
  },
  {
   "cell_type": "code",
   "execution_count": null,
   "metadata": {
    "collapsed": true
   },
   "outputs": [],
   "source": []
  },
  {
   "cell_type": "markdown",
   "metadata": {},
   "source": [
    "# Write a small program... \n",
    "\n",
    "Write a small program that combines everything that you learned so far.\n",
    "\n",
    "  * Get a number between 1 to 10 from the user, which is entered via the keyboard. \n",
    "  * Make sure that the number is realy an integer.\n",
    "  * Use that number to repeat a string as many times as the number says.\n",
    "  \n",
    "For example:\n",
    "\n",
    "  * The program asks: `How important is it on a scale from 1 to 10?`\n",
    "  * The user enters `8`\n",
    "  * The program returns: `It is really really really really really really really really important!`."
   ]
  },
  {
   "cell_type": "code",
   "execution_count": null,
   "metadata": {
    "collapsed": true
   },
   "outputs": [],
   "source": []
  },
  {
   "cell_type": "markdown",
   "metadata": {},
   "source": [
    "# Assignment at home\n",
    "\n",
    "  * Watch the video under: https://archive.org/details/ComputerAndTheMindOfManP3TheUniversalMachine\n",
    "    - Describe what a computer is and what is its purpose.\n",
    "    - What is a program?\n",
    "    - What is the role of humans in relation to computers?\n",
    "    - What is a programming language?\n",
    "\n",
    "  * Modify your first ELIZA program, so that it starts the conversation with a different question than `Hello. How are you feeling today?`.\n",
    "  * Modify your first ELIZA program to exit when the user types: `Stop it! I have enough!`\n",
    "    - Hint: use an `if` condition in the very end of your program in the while loop. Encode a line that says _if statement equals `\"Stop it! I have enough!\"` then break out of the loop._ \n",
    "  * Try to figure out where your ELIZA program gets the sentences from, which it prints when interacting with you.\n"
   ]
  }
 ],
 "metadata": {
  "celltoolbar": "Slideshow",
  "kernelspec": {
   "display_name": "Python 3",
   "language": "python",
   "name": "python3"
  },
  "language_info": {
   "codemirror_mode": {
    "name": "ipython",
    "version": 3
   },
   "file_extension": ".py",
   "mimetype": "text/x-python",
   "name": "python",
   "nbconvert_exporter": "python",
   "pygments_lexer": "ipython3",
   "version": "3.6.3"
  }
 },
 "nbformat": 4,
 "nbformat_minor": 2
}
