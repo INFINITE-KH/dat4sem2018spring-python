{
 "cells": [
  {
   "cell_type": "code",
   "execution_count": 1,
   "metadata": {
    "collapsed": true
   },
   "outputs": [],
   "source": [
    "adj = [\"other\", \"new\", \"good\", \"high\", \"old\", \"great\", \"big\", \"American\",\n",
    "       \"small\", \"large\", \"national\", \"young\", \"different\", \"black\", \"long\", \n",
    "       \"little\", \"important\", \"political\", \"bad\", \"white\", \"real\", \"best\", \n",
    "       \"right\", \"social\", \"only\", \"public\", \"sure\", \"low\", \"early\", \"able\", \n",
    "       \"human\", \"local\", \"late\", \"hard\", \"major\", \"better\", \"economic\", \n",
    "       \"strong\", \"possible\", \"whole\", \"free\", \"military\", \"true\", \"federal\", \n",
    "       \"international\", \"full\", \"special\", \"easy\", \"clear\", \"recent\", \n",
    "       \"certain\", \"personal\", \"open\", \"red\", \"difficult\", \"available\", \n",
    "       \"likely\", \"short\", \"single\", \"medical\", \"current\", \"wrong\", \"private\", \n",
    "       \"past\", \"foreign\", \"fine\", \"common\", \"poor\", \"natural\", \"significant\", \n",
    "       \"similar\", \"hot\", \"dead\", \"central\", \"happy\", \"serious\", \"ready\", \n",
    "       \"simple\", \"left\", \"physical\", \"general\", \"environmental\", \"financial\", \n",
    "       \"blue\", \"democratic\", \"dark\", \"various\", \"entire\", \"close\", \"legal\", \n",
    "       \"religious\", \"cold\", \"final\", \"main\", \"green\", \"nice\", \"huge\", \n",
    "       \"popular\", \"traditional\", \"cultural\"] \n",
    "\n",
    "articles = [\"the\", \"a\", \"an\"] \n",
    "\n",
    "# https://www.espressoenglish.net/100-common-nouns-in-english/ \n",
    "nouns = [\"time\", \"year\", \"people\", \"way\", \"day\", \"man\", \"thing\", \"woman\",\n",
    "         \"life\", \"child\", \"world\", \"school\", \"state\", \"family\", \"student\", \n",
    "         \"group\", \"country\", \"problem\", \"hand\", \"part\", \"place\", \"case\", \n",
    "         \"week\", \"company\", \"system\", \"program\", \"question\", \"work\", \n",
    "         \"government\", \"number\", \"night\", \"point\", \"home\", \"water\", \"room\", \n",
    "         \"mother\", \"area\", \"money\", \"story\", \"fact\", \"month\", \"lot\", \"right\", \n",
    "         \"study\", \"book\", \"eye\", \"job\", \"word\", \"business\", \"issue\", \"side\", \n",
    "         \"kind\", \"head\", \"house\", \"service\", \"friend\", \"father\", \"power\", \n",
    "         \"hour\", \"game\", \"line\", \"end\", \"member\", \"law\", \"car\", \"city\", \n",
    "         \"community\", \"name\", \"president\", \"team\", \"minute\", \"idea\", \"kid\", \n",
    "         \"body\", \"information\", \"back\", \"parent\", \"face\", \"others\", \"level\", \n",
    "         \"office\", \"door\", \"health\", \"person\", \"art\", \"war\", \"history\", \n",
    "         \"party\", \"result\", \"change\", \"morning\", \"reason\", \"research\", \"girl\", \n",
    "         \"guy\", \"moment\", \"air\", \"teacher\", \"force\", \"education\"] \n",
    "\n",
    "# https://www.espressoenglish.net/100-most-common-english-verbs/ \n",
    "verbs = [\"be\", \"have\", \"do\", \"say\", \"go\", \"can\", \"get\", \"would\", \"make\",        \n",
    "         \"know\", \"will\", \"think\", \"take\", \"see\", \"come\", \"could\", \"want\", \n",
    "         \"look\", \"use\", \"find\", \"give\", \"tell\", \"work\", \"may\", \"should\", \n",
    "         \"call\", \"try\", \"ask\", \"need\", \"feel\", \"become\", \"leave\", \"put\", \n",
    "         \"mean\", \"keep\", \"let\", \"begin\", \"seem\", \"help\", \"talk\", \"turn\", \n",
    "         \"start\", \"might\", \"show\", \"hear\", \"play\", \"run\", \"move\", \"like\", \n",
    "         \"live\", \"believe\", \"hold\", \"bring\", \"happen\", \"must\", \"write\", \n",
    "         \"provide\", \"sit\", \"stand\", \"lose\", \"pay\", \"meet\", \"include\", \n",
    "         \"continue\", \"set\", \"learn\", \"change\", \"lead\", \"understand\", \"watch\", \n",
    "         \"follow\", \"stop\", \"create\", \"speak\", \"read\", \"allow\", \"add\", \"spend\", \n",
    "         \"grow\", \"open\", \"walk\", \"win\", \"offer\", \"remember\", \"love\", \n",
    "         \"consider\", \"appear\", \"buy\", \"wait\", \"serve\", \"die\", \"send\", \"expect\", \n",
    "         \"build\", \"stay\", \"fall\", \"cut\", \"reach\", \"kill\", \"remain\"]\n",
    "\n",
    "vowels = (\"a\", \"e\", \"i\", \"o\", \"u\", \"y\")\n",
    "\n",
    "consonants = (\"b\", \"c\", \"d\", \"f\", \"g\", \"h\", \"j\", \"k\", \"l\", \"m\", \"n\", \"p\", \"q\", \"r\", \"s\", \"t\", \"v\", \"w\", \"x\", \"z\")"
   ]
  },
  {
   "cell_type": "code",
   "execution_count": null,
   "metadata": {
    "collapsed": true
   },
   "outputs": [],
   "source": [
    "import random\n",
    "\n",
    "art = random.choice(articles)\n",
    "string_0 = random.choice(adj)\n",
    "string_1 = random.choice(nouns)\n",
    "string_2 = random.choice(verbs)\n",
    "string_3 = random.choice(nouns)\n",
    "\n",
    "string_done = art+ \" \" +string_0+ \" \" +string_1+ \" \" +string_2\n",
    "\n",
    "print(string_done.title())"
   ]
  },
  {
   "cell_type": "code",
   "execution_count": 68,
   "metadata": {},
   "outputs": [
    {
     "data": {
      "text/plain": [
       "3000000"
      ]
     },
     "execution_count": 68,
     "metadata": {},
     "output_type": "execute_result"
    }
   ],
   "source": [
    "for x in articles:\n",
    "    for v in adj:\n",
    "        for y in nouns:\n",
    "            for z in verbs:\n",
    "                lst.append(x+ \" \" +v+ \" \" +y+ \" \" +z)\n",
    "                \n",
    "                \n",
    "lst = []\n",
    "for art in articles:\n",
    "    for adjec in adj:\n",
    "        for noun in nouns:\n",
    "            for verb in verbs:\n",
    "                lst.append(art+ \" \" +adjec+ \" \" +noun+ \" \" +verb)\n",
    "len(lst)"
   ]
  },
  {
   "cell_type": "code",
   "execution_count": 14,
   "metadata": {},
   "outputs": [
    {
     "name": "stdout",
     "output_type": "stream",
     "text": [
      "The better week becomes the minute\n"
     ]
    }
   ],
   "source": [
    "import random\n",
    "\n",
    "art = random.choice(articles)\n",
    "ad = random.choice(adj)\n",
    "if art == \"the\":\n",
    "    noun = random.choice(nouns)\n",
    "    \n",
    "if art == \"an\":\n",
    "    while True:\n",
    "        noun = random.choice(nouns)\n",
    "        if noun.startswith(vowels):\n",
    "            break\n",
    "            \n",
    "if art == \"a\":\n",
    "    while True:\n",
    "        noun = random.choice(nouns)\n",
    "        if noun.startswith(consonants):\n",
    "            break\n",
    "\n",
    "verb = random.choice(verbs)\n",
    "\n",
    "art2 = random.choice(articles)\n",
    "\n",
    "if art2 == \"the\":\n",
    "    noun2 = random.choice(nouns)\n",
    "    \n",
    "if art2 == \"an\":\n",
    "    while True:\n",
    "        noun2 = random.choice(nouns)\n",
    "        if noun2.startswith(vowels):\n",
    "            break\n",
    "            \n",
    "if art2 == \"a\":\n",
    "    while True:\n",
    "        noun2 = random.choice(nouns)\n",
    "        if noun2.startswith(consonants):\n",
    "            break\n",
    "\n",
    "sentence = art.title() + \" \" + ad + \" \" + noun + \" \" + verb + \"s \" + art2 + \" \" + noun2\n",
    "    \n",
    "print(sentence)"
   ]
  },
  {
   "cell_type": "code",
   "execution_count": null,
   "metadata": {
    "collapsed": true
   },
   "outputs": [],
   "source": []
  },
  {
   "cell_type": "code",
   "execution_count": null,
   "metadata": {
    "collapsed": true
   },
   "outputs": [],
   "source": []
  }
 ],
 "metadata": {
  "kernelspec": {
   "display_name": "Python 3",
   "language": "python",
   "name": "python3"
  },
  "language_info": {
   "codemirror_mode": {
    "name": "ipython",
    "version": 3
   },
   "file_extension": ".py",
   "mimetype": "text/x-python",
   "name": "python",
   "nbconvert_exporter": "python",
   "pygments_lexer": "ipython3",
   "version": "3.6.3"
  }
 },
 "nbformat": 4,
 "nbformat_minor": 2
}
