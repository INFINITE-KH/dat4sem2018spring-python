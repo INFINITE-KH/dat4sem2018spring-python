{
 "cells": [
  {
   "cell_type": "code",
   "execution_count": 3,
   "metadata": {},
   "outputs": [
    {
     "data": {
      "text/plain": [
       "{'hej': 5, 'b': 'c', 4: ['a', 9, None]}"
      ]
     },
     "execution_count": 3,
     "metadata": {},
     "output_type": "execute_result"
    }
   ],
   "source": [
    "{\"hej\" : 5, \n",
    " \"b\" : \"c\", \n",
    " 4: [\"a\", 9, None]}"
   ]
  },
  {
   "cell_type": "code",
   "execution_count": 19,
   "metadata": {},
   "outputs": [
    {
     "data": {
      "text/plain": [
       "'https://upload.wikimedia.org/wikipedia/common/7/7b/Moby_Dick_p510_illustration.jpg'"
      ]
     },
     "execution_count": 19,
     "metadata": {},
     "output_type": "execute_result"
    }
   ],
   "source": [
    "image = {\"color\" : \"greyscale\", \"size\" : 289983, \"type\" : \"jpg\",\n",
    "        \"address\" : \"https://upload.wikimedia.org/wikipedia/common/7/7b/Moby_Dick_p510_illustration.jpg\"}\n",
    "\n",
    "image[\"address\"]"
   ]
  },
  {
   "cell_type": "code",
   "execution_count": 7,
   "metadata": {
    "collapsed": true
   },
   "outputs": [],
   "source": [
    "image[510] = \"page in book\""
   ]
  },
  {
   "cell_type": "code",
   "execution_count": 8,
   "metadata": {},
   "outputs": [
    {
     "data": {
      "text/plain": [
       "{'color': 'greyscale',\n",
       " 'size': 289983,\n",
       " 'type': 'jpg',\n",
       " 'address': 'https://upload.wikimedia.org/wikipedia/common/7/7b/Moby_Dick_p510_illustration.jpg',\n",
       " 510: 'page in book'}"
      ]
     },
     "execution_count": 8,
     "metadata": {},
     "output_type": "execute_result"
    }
   ],
   "source": [
    "image"
   ]
  },
  {
   "cell_type": "code",
   "execution_count": 9,
   "metadata": {},
   "outputs": [
    {
     "data": {
      "text/plain": [
       "False"
      ]
     },
     "execution_count": 9,
     "metadata": {},
     "output_type": "execute_result"
    }
   ],
   "source": [
    "fst_sentence = [\"Call\", \"me\", \"KH\"]\n",
    "fst_sentence_juggled = [\"KH\", \"me\", \"Call\"]\n",
    "\n",
    "fst_sentence == fst_sentence_juggled"
   ]
  },
  {
   "cell_type": "code",
   "execution_count": 11,
   "metadata": {},
   "outputs": [
    {
     "data": {
      "text/plain": [
       "True"
      ]
     },
     "execution_count": 11,
     "metadata": {},
     "output_type": "execute_result"
    }
   ],
   "source": [
    "fst_sentence = {1: \"Call\", 2: \"me\", 3: \"KH\"}\n",
    "fst_sentence_juggled = {3: \"KH\", 2: \"me\", 1: \"Call\"}\n",
    "\n",
    "fst_sentence == fst_sentence_juggled"
   ]
  },
  {
   "cell_type": "code",
   "execution_count": null,
   "metadata": {
    "collapsed": true
   },
   "outputs": [],
   "source": [
    "fst_sentence[\"Hej\"]"
   ]
  },
  {
   "cell_type": "code",
   "execution_count": 25,
   "metadata": {},
   "outputs": [
    {
     "data": {
      "text/plain": [
       "{'address': 'https://upload.wikimedia.org/wikipedia/common/7/7b/Moby_Dick_p510_illustration.jpg',\n",
       " 'color': 'Black&White',\n",
       " 'size': 289983,\n",
       " 'type': 'jpg'}"
      ]
     },
     "execution_count": 25,
     "metadata": {},
     "output_type": "execute_result"
    }
   ],
   "source": [
    "image = {\"color\" : \"greyscale\", \"size\" : 289983, \"type\" : \"jpg\",\n",
    "        \"address\" : \"https://upload.wikimedia.org/wikipedia/common/7/7b/Moby_Dick_p510_illustration.jpg\"}\n",
    "\n",
    "image[\"color\"] = \"Black&White\"\n",
    "image"
   ]
  },
  {
   "cell_type": "code",
   "execution_count": 22,
   "metadata": {},
   "outputs": [
    {
     "data": {
      "text/plain": [
       "{'address': 'https://upload.wikimedia.org/wikipedia/common/7/7b/Moby_Dick_p510_illustration.jpg',\n",
       " 'size': 289983,\n",
       " 'type': 'jpg'}"
      ]
     },
     "execution_count": 22,
     "metadata": {},
     "output_type": "execute_result"
    }
   ],
   "source": [
    "del image[\"color\"]\n",
    "image"
   ]
  },
  {
   "cell_type": "code",
   "execution_count": 26,
   "metadata": {},
   "outputs": [
    {
     "data": {
      "text/plain": [
       "{'address': 'https://upload.wikimedia.org/wikipedia/common/7/7b/Moby_Dick_p510_illustration.jpg',\n",
       " 'color': 'Black&White',\n",
       " 'size': 289983,\n",
       " 'type': 'jpg'}"
      ]
     },
     "execution_count": 26,
     "metadata": {},
     "output_type": "execute_result"
    }
   ],
   "source": [
    "image"
   ]
  },
  {
   "cell_type": "code",
   "execution_count": 28,
   "metadata": {},
   "outputs": [
    {
     "name": "stdout",
     "output_type": "stream",
     "text": [
      "0 0\n",
      "1 1\n",
      "2 2\n",
      "3 3\n",
      "4 4\n"
     ]
    }
   ],
   "source": [
    "a = list(range(5))\n",
    "for idx, el in enumerate(a):\n",
    "    print(idx, el)"
   ]
  },
  {
   "cell_type": "code",
   "execution_count": 31,
   "metadata": {},
   "outputs": [
    {
     "name": "stdout",
     "output_type": "stream",
     "text": [
      "color Black&White\n",
      "size 289983\n",
      "type jpg\n",
      "address https://upload.wikimedia.org/wikipedia/common/7/7b/Moby_Dick_p510_illustration.jpg\n"
     ]
    }
   ],
   "source": [
    "for key, value in image.items():\n",
    "    print(key, value)"
   ]
  },
  {
   "cell_type": "code",
   "execution_count": 35,
   "metadata": {
    "scrolled": true
   },
   "outputs": [
    {
     "name": "stdout",
     "output_type": "stream",
     "text": [
      "color\n",
      "size\n",
      "type\n",
      "address\n",
      " \n",
      "Black&White\n",
      "289983\n",
      "jpg\n",
      "https://upload.wikimedia.org/wikipedia/common/7/7b/Moby_Dick_p510_illustration.jpg\n"
     ]
    }
   ],
   "source": [
    "for key in image.keys():\n",
    "    print(key)\n",
    "\n",
    "print(\" \")\n",
    "    \n",
    "for v in image.values():\n",
    "    print(v)"
   ]
  },
  {
   "cell_type": "code",
   "execution_count": 36,
   "metadata": {
    "scrolled": true
   },
   "outputs": [
    {
     "name": "stdout",
     "output_type": "stream",
     "text": [
      "Black&White\n",
      "289983\n",
      "jpg\n",
      "https://upload.wikimedia.org/wikipedia/common/7/7b/Moby_Dick_p510_illustration.jpg\n"
     ]
    }
   ],
   "source": [
    "for _, value in image.items():\n",
    "    print(value)"
   ]
  },
  {
   "cell_type": "code",
   "execution_count": 37,
   "metadata": {
    "scrolled": false
   },
   "outputs": [
    {
     "data": {
      "text/plain": [
       "['Black&White',\n",
       " 289983,\n",
       " 'jpg',\n",
       " 'https://upload.wikimedia.org/wikipedia/common/7/7b/Moby_Dick_p510_illustration.jpg']"
      ]
     },
     "execution_count": 37,
     "metadata": {},
     "output_type": "execute_result"
    }
   ],
   "source": [
    "list(image.values())"
   ]
  },
  {
   "cell_type": "code",
   "execution_count": 46,
   "metadata": {
    "scrolled": true
   },
   "outputs": [
    {
     "data": {
      "text/plain": [
       "False"
      ]
     },
     "execution_count": 46,
     "metadata": {},
     "output_type": "execute_result"
    }
   ],
   "source": [
    "\"Python\" in image.keys()\n",
    "\"size\" in image.values()"
   ]
  },
  {
   "cell_type": "code",
   "execution_count": 45,
   "metadata": {},
   "outputs": [
    {
     "data": {
      "text/plain": [
       "'unknown'"
      ]
     },
     "execution_count": 45,
     "metadata": {},
     "output_type": "execute_result"
    }
   ],
   "source": [
    "image = {\"color\" : \"greyscale\", \"size\" : 289983, \"type\" : \"jpg\",\n",
    "        \"address\" : \"https://upload.wikimedia.org/wikipedia/common/7/7b/Moby_Dick_p510_illustration.jpg\"}\n",
    "\n",
    "color_val = image.get(\"Python\", \"unknown\")\n",
    "color_val"
   ]
  },
  {
   "cell_type": "code",
   "execution_count": null,
   "metadata": {
    "collapsed": true
   },
   "outputs": [],
   "source": [
    "fst_paragraph = '''\n",
    "(...)\n",
    "'''\n",
    "\n",
    "count = {}\n",
    "\n",
    "for character in fst_sentence.split(\" \"):\n",
    "    count.setdefault(character, 0)\n",
    "    count[character] += 1\n",
    "    \n",
    "count"
   ]
  },
  {
   "cell_type": "code",
   "execution_count": null,
   "metadata": {
    "collapsed": true
   },
   "outputs": [],
   "source": [
    "import pprint\n",
    "\n",
    "pprint.pprint(users)"
   ]
  }
 ],
 "metadata": {
  "kernelspec": {
   "display_name": "Python 3",
   "language": "python",
   "name": "python3"
  },
  "language_info": {
   "codemirror_mode": {
    "name": "ipython",
    "version": 3
   },
   "file_extension": ".py",
   "mimetype": "text/x-python",
   "name": "python",
   "nbconvert_exporter": "python",
   "pygments_lexer": "ipython3",
   "version": "3.6.3"
  }
 },
 "nbformat": 4,
 "nbformat_minor": 2
}
