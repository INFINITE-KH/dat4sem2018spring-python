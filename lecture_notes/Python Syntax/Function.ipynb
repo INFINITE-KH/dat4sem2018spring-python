{
 "cells": [
  {
   "cell_type": "code",
   "execution_count": 3,
   "metadata": {},
   "outputs": [
    {
     "name": "stdout",
     "output_type": "stream",
     "text": [
      "_s\n"
     ]
    }
   ],
   "source": [
    "def expand(rule):\n",
    "    print(rule)\n",
    "    \n",
    "expand(\"_s\")"
   ]
  },
  {
   "cell_type": "code",
   "execution_count": 5,
   "metadata": {},
   "outputs": [
    {
     "name": "stdout",
     "output_type": "stream",
     "text": [
      "ab\n"
     ]
    }
   ],
   "source": [
    "def expand(rule, a_value, b_value):\n",
    "    # print(rule)\n",
    "    print(a_value + b_value)\n",
    "    \n",
    "# expand(\"_s\")\n",
    "expand(3, \"a\", \"b\")"
   ]
  },
  {
   "cell_type": "code",
   "execution_count": 7,
   "metadata": {},
   "outputs": [
    {
     "name": "stdout",
     "output_type": "stream",
     "text": [
      "_s\n"
     ]
    },
    {
     "data": {
      "text/plain": [
       "'_saaa'"
      ]
     },
     "execution_count": 7,
     "metadata": {},
     "output_type": "execute_result"
    }
   ],
   "source": [
    "def expand(rule):\n",
    "    \"\"\"\n",
    "    This expands a grammer rule.\n",
    "    \n",
    "    :param rule: str\n",
    "        That is the ID of a grammer rule\n",
    "    \"\"\"\n",
    "    print(rule)\n",
    "    \n",
    "    return rule + \"aaa\"\n",
    "    \n",
    "expand(\"_s\")"
   ]
  },
  {
   "cell_type": "code",
   "execution_count": null,
   "metadata": {
    "collapsed": true
   },
   "outputs": [],
   "source": []
  },
  {
   "cell_type": "code",
   "execution_count": null,
   "metadata": {
    "collapsed": true
   },
   "outputs": [],
   "source": [
    "pprint.pprint(object, stream=None, index=1, width=80, depth=None, *, )"
   ]
  },
  {
   "cell_type": "code",
   "execution_count": 8,
   "metadata": {},
   "outputs": [
    {
     "name": "stdout",
     "output_type": "stream",
     "text": [
      "- Ahab\n",
      "- Ahab\n",
      "- Ishmael\n",
      "- Queequeg\n"
     ]
    }
   ],
   "source": [
    "def hire_crew(*sailors):\n",
    "    \"\"\"\n",
    "    Print the list of hired crew members.\n",
    "    \"\"\"\n",
    "    \n",
    "    for sailor in sailors:\n",
    "        print(\"- \" + sailor)\n",
    "        \n",
    "hire_crew(\"Ahab\")\n",
    "hire_crew(\"Ahab\", \"Ishmael\", \"Queequeg\")"
   ]
  },
  {
   "cell_type": "code",
   "execution_count": 16,
   "metadata": {},
   "outputs": [],
   "source": [
    "# import webget\n",
    "import os\n",
    "\n",
    "os.makedirs?"
   ]
  }
 ],
 "metadata": {
  "kernelspec": {
   "display_name": "Python 3",
   "language": "python",
   "name": "python3"
  },
  "language_info": {
   "codemirror_mode": {
    "name": "ipython",
    "version": 3
   },
   "file_extension": ".py",
   "mimetype": "text/x-python",
   "name": "python",
   "nbconvert_exporter": "python",
   "pygments_lexer": "ipython3",
   "version": "3.6.3"
  }
 },
 "nbformat": 4,
 "nbformat_minor": 2
}
