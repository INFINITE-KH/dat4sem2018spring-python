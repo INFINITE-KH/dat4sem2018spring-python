{
 "cells": [
  {
   "cell_type": "code",
   "execution_count": 6,
   "metadata": {},
   "outputs": [
    {
     "data": {
      "text/plain": [
       "{'Black Girl',\n",
       " 'Bloody Television',\n",
       " 'Mushy Bread',\n",
       " 'Naughty Solution',\n",
       " 'Success Impossible'}"
      ]
     },
     "execution_count": 6,
     "metadata": {},
     "output_type": "execute_result"
    }
   ],
   "source": [
    "import random\n",
    "\n",
    "groups = ['Charming P*', 'Naughty Solution', 'Impossible Technology', \n",
    "          'Bloody Television', 'Black Girl', '30cm Python', 'Mushy Bread', 'Success Impossible']\n",
    "\n",
    "rand_group = groups[random.randrange(len(groups))]\n",
    "\n",
    "groups = [groups[random.randrange(len(groups))] for _ in groups] \n",
    "\n",
    "[i for i in range(10) if i % 2 == 0]\n",
    "\n",
    "set(groups)"
   ]
  }
 ],
 "metadata": {
  "kernelspec": {
   "display_name": "Python 3",
   "language": "python",
   "name": "python3"
  },
  "language_info": {
   "codemirror_mode": {
    "name": "ipython",
    "version": 3
   },
   "file_extension": ".py",
   "mimetype": "text/x-python",
   "name": "python",
   "nbconvert_exporter": "python",
   "pygments_lexer": "ipython3",
   "version": "3.6.3"
  }
 },
 "nbformat": 4,
 "nbformat_minor": 2
}
