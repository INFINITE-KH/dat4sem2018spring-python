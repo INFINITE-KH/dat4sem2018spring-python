{
 "cells": [
  {
   "cell_type": "code",
   "execution_count": 1,
   "metadata": {},
   "outputs": [
    {
     "ename": "SyntaxError",
     "evalue": "invalid syntax (<ipython-input-1-fe5fe56762fd>, line 1)",
     "output_type": "error",
     "traceback": [
      "\u001b[0;36m  File \u001b[0;32m\"<ipython-input-1-fe5fe56762fd>\"\u001b[0;36m, line \u001b[0;32m1\u001b[0m\n\u001b[0;31m    Write a program that creates gramatically valid English sentences, where the grammar is defined via a dictionary, for example as in the following.\u001b[0m\n\u001b[0m          ^\u001b[0m\n\u001b[0;31mSyntaxError\u001b[0m\u001b[0;31m:\u001b[0m invalid syntax\n"
     ]
    }
   ],
   "source": [
    "Write a program that creates gramatically valid English sentences, where the grammar is defined via a dictionary, for example as in the following.\n",
    "\n",
    "  grammar = {\n",
    "      \"_S\"  : [\"_NP _VP\"],\n",
    "      \"_NP\" : [\"_N\",\n",
    "               \"_A _NP _P _A _N\"],\n",
    "      \"_VP\" : [\"_V\",\n",
    "               \"_V _NP\"],\n",
    "      \"_N\"  : [\"developer\", \"teacher\", \"student\"],\n",
    "      \"_A\"  : [\"smart\", \"interesting\", \"nice\", \"desperate\", \"anoying\"],\n",
    "      \"_P\"  : [\"about\", \"near\"],\n",
    "      \"_V\"  : [\"learns\", \"trains\", \"tests\", \"is\", \"studies\", \"asks\"]\n",
    "  }\n",
    "  \n",
    "Hint If you think the above task is too complex, start with a more simple grammar:\n",
    "  \n",
    "  grammar = {\n",
    "      \"_S\"  : [\"_N _V\"],\n",
    "      \"_N\"  : [\"developer\", \"teacher\", \"student\"],\n",
    "      \"_V\"  : [\"learns\", \"trains\", \"tests\", \"is\", \"studies\", \"asks\"]\n",
    "  }\n",
    "  \n",
    "And write a program, which replaces \"_N\" with a random noun out of grammar['_N'] and \"_V\" with a random verb out of grammar['_V'] to generate a sentence. Subsequently scale-up your program.\n",
    "\n",
    "\n",
    "expand(grammar['_S'])"
   ]
  },
  {
   "cell_type": "code",
   "execution_count": 88,
   "metadata": {},
   "outputs": [
    {
     "name": "stdout",
     "output_type": "stream",
     "text": [
      "student is\n"
     ]
    }
   ],
   "source": [
    "import random \n",
    "import pprint\n",
    "\n",
    "grammar = {\n",
    "    \"_S\"  : [\"_N _V\"],\n",
    "    \"_N\"  : [\"developer\", \"teacher\", \"student\"],\n",
    "    \"_V\"  : [\"learns\", \"trains\", \"tests\", \"is\", \"studies\", \"asks\"]\n",
    "}\n",
    "str1 = random.choice(grammar[\"_N\"])\n",
    "str2 = random.choice(grammar[\"_V\"])\n",
    "grammar[\"_S\"] = str1 + \" \" + str2\n",
    "def printContent(grammar):\n",
    "    print(grammar)\n",
    "      \n",
    "printContent(grammar[\"_S\"])  \n",
    "\n",
    "\n"
   ]
  }
 ],
 "metadata": {
  "kernelspec": {
   "display_name": "Python 3",
   "language": "python",
   "name": "python3"
  },
  "language_info": {
   "codemirror_mode": {
    "name": "ipython",
    "version": 3
   },
   "file_extension": ".py",
   "mimetype": "text/x-python",
   "name": "python",
   "nbconvert_exporter": "python",
   "pygments_lexer": "ipython3",
   "version": "3.6.3"
  }
 },
 "nbformat": 4,
 "nbformat_minor": 2
}
