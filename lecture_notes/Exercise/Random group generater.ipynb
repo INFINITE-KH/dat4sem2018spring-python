{
 "cells": [
  {
   "cell_type": "code",
   "execution_count": 62,
   "metadata": {},
   "outputs": [
    {
     "name": "stdout",
     "output_type": "stream",
     "text": [
      "['30cm Python', 'Charming P*', 'Bloody Television', 'Black Girl', 'Naughty Solution', 'Mushy Bread', 'Impossible Technology', 'Success Impossible']\n"
     ]
    }
   ],
   "source": [
    "import random\n",
    "\n",
    "group = [\"Charming P*\", \"Naughty Solution\", \"Impossible Technology\", \"Bloody Television\",\n",
    "        \"Black Girl\", \"30cm Python\",\n",
    "        \"Mushy Bread\", \"Success Impossible\"]\n",
    "\n",
    "str1 = random.shuffle(group)\n",
    "\n",
    "print(group)"
   ]
  }
 ],
 "metadata": {
  "kernelspec": {
   "display_name": "Python 3",
   "language": "python",
   "name": "python3"
  },
  "language_info": {
   "codemirror_mode": {
    "name": "ipython",
    "version": 3
   },
   "file_extension": ".py",
   "mimetype": "text/x-python",
   "name": "python",
   "nbconvert_exporter": "python",
   "pygments_lexer": "ipython3",
   "version": "3.6.3"
  }
 },
 "nbformat": 4,
 "nbformat_minor": 2
}
