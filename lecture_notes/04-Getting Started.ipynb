{
 "cells": [
  {
   "cell_type": "markdown",
   "metadata": {
    "slideshow": {
     "slide_type": "slide"
    }
   },
   "source": [
    "# What do I need for this course?\n",
    "\n",
    "\n",
    "## A Python Installation\n",
    "\n",
    "Likely, the easiest way of installing and configuring Python is via the distribution _Anaconda_.\n",
    "\n",
    "Install the Python 3.6 version corresponding to your machine and OS from https://www.anaconda.com/download.\n",
    "In case you need help read the installation instructions here: https://docs.anaconda.com/anaconda/install/\n",
    "\n",
    "**OBS:** This course will make use of Python 3.6. Many of the provided code examples will not work with Python 2!"
   ]
  },
  {
   "cell_type": "markdown",
   "metadata": {
    "slideshow": {
     "slide_type": "subslide"
    }
   },
   "source": [
    "## Git and a Github Account\n",
    "\n",
    "You will need to install Git to your local machine. Git installers can be found here: https://git-scm.com/downloads\n",
    "\n",
    "  * **OBS** If you are on Windows: Do not use your default Windows terminal. Use the Git Bash shell which comes with the installation.\n",
    "  * Please note: The installation is not successful before you can use Git in your console by writing `git`!\n",
    "  * Create a user on GitHub if you do not already have one.\n",
    "\n",
    "Best fork this repository on Github.\n",
    "\n",
    "And fetch the latest changes before/after each lecture, see https://help.github.com/articles/syncing-a-fork/.\n",
    "\n",
    "```bash\n",
    "git clone https://github.com/<YourID>/dat4sem2018spring-python.git\n",
    "```"
   ]
  },
  {
   "cell_type": "markdown",
   "metadata": {
    "slideshow": {
     "slide_type": "slide"
    }
   },
   "source": [
    "# Running Python Code\n",
    "\n",
    "Basically, you have two possiblities to run Python code. Either you execute statements iteratively in the read-eval-print-loop (REPL) or you run self-contained programs.\n",
    "\n",
    "## The Python Interpreter\n",
    "\n",
    "On the VM, you can run Python directly on the command line via the `python` command.\n",
    "\n",
    "```bash\n",
    "$ python\n",
    "Python 3.6.3 |Anaconda custom (64-bit)| (default, Oct  6 2017, 12:04:38)\n",
    "[GCC 4.2.1 Compatible Clang 4.0.1 (tags/RELEASE_401/final)] on darwin\n",
    "Type \"help\", \"copyright\", \"credits\" or \"license\" for more information.\n",
    ">>> print('Hello world!')\n",
    "Hello world!\n",
    "```\n",
    "This brings you to the Python REPL and lets you execute your first statements and evaluate your first expressions, see below."
   ]
  },
  {
   "cell_type": "markdown",
   "metadata": {
    "slideshow": {
     "slide_type": "subslide"
    }
   },
   "source": [
    "## IPython\n",
    "\n",
    "Since the Python REPL might feel a bit \"nacked\" and bare metal you might want to use IPython (http://ipython.org), a bit more interactive coding environment. It provides you for example code completion via the *tab* key or direct help to functions. More to the use of IPython later.\n",
    "\n",
    "```bash\n",
    "$ ipython\n",
    "Python 3.6.3 |Anaconda custom (64-bit)| (default, Oct  6 2017, 12:04:38)\n",
    "Type 'copyright', 'credits' or 'license' for more information\n",
    "IPython 6.1.0 -- An enhanced Interactive Python. Type '?' for help.\n",
    "\n",
    "In [1]: print('Hello world!')\n",
    "Hello world!\n",
    "```"
   ]
  },
  {
   "cell_type": "markdown",
   "metadata": {
    "slideshow": {
     "slide_type": "subslide"
    }
   },
   "source": [
    "## Jupyter Notebooks\n",
    "\n",
    "Jupyter notebooks, formerly known as IPython notebooks, provide you with an interactive coding environment, right in your browser. What you are currently looking at is such a notebook environment.\n",
    "\n",
    "You can start the notebook server via:\n",
    "\n",
    "```bash\n",
    "$ cd path/to/notebooks/\n",
    "$ jupyter notebook\n",
    "```\n",
    "\n",
    "That should open your browser on http://127.0.0.1:8888 and you should see an environment similar to the one I am presenting."
   ]
  },
  {
   "cell_type": "markdown",
   "metadata": {
    "slideshow": {
     "slide_type": "slide"
    }
   },
   "source": [
    "## Running Self-contained Python Programs\n",
    "\n",
    "To create a simple \"Hello World\" script copy and paste the following code to your command line:\n",
    "\n",
    "```bash\n",
    "$ cat <<EOF > hello.py\n",
    "print('Hello World!')\n",
    "EOF\n",
    "```\n",
    "\n",
    "That is, with subsequently runnning the program, you should see something like in the following.\n",
    "\n",
    "```bash\n",
    "$ cat hello.py\n",
    "print('Hello World!')\n",
    "$ python hello.py\n",
    "Hello World!\n",
    "```"
   ]
  }
 ],
 "metadata": {
  "celltoolbar": "Slideshow",
  "kernelspec": {
   "display_name": "Python 3",
   "language": "python",
   "name": "python3"
  },
  "language_info": {
   "codemirror_mode": {
    "name": "ipython",
    "version": 3
   },
   "file_extension": ".py",
   "mimetype": "text/x-python",
   "name": "python",
   "nbconvert_exporter": "python",
   "pygments_lexer": "ipython3",
   "version": "3.6.3"
  }
 },
 "nbformat": 4,
 "nbformat_minor": 2
}
